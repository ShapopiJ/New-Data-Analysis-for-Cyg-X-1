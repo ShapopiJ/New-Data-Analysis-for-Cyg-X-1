{
 "cells": [
  {
   "cell_type": "markdown",
   "metadata": {},
   "source": [
    "# DAY 2\n",
    "\n",
    "Today we will be looking at:\n",
    "\n",
    "1. Structure of the UNAM HPC\n",
    "2. PBS Job Scheduler\n",
    "3. Creating a PBS script\n",
    "4. Job scheduling and submission\n",
    "5. Controlling and monitoring jobs\n",
    "6. Job outputs\n",
    "\n",
    "### TIPS\n",
    "\n",
    "* Have a terminal open and logged into the UHPC."
   ]
  },
  {
   "cell_type": "markdown",
   "metadata": {},
   "source": [
    "## 1. Structure of UHPC\n",
    "<img src=\"structure.png\" style=\"width:401px\">"
   ]
  },
  {
   "cell_type": "markdown",
   "metadata": {},
   "source": [
    "### Some terminology\n",
    "\n",
    "* Login (manager and storage) node: Refers to the computer we access via the internet to reach the cluster. This computer manages the compute nodes as well as serving as a storage server for our files.\n",
    "* Compute (worker) node: individual computer (housed in a rack), responsible for performing computations in a cluster. Typically has a couple of CPUs, onboard RAM and runs its own instance of an operating system.\n",
    "* HPC/Cluster/Supercomputer: A set of individual compute nodes connected together via a computer network and in some aspects viewed as a single computer. \n",
    "* CPU (processor): integrated electronic circuitry within a computer that executes instructions that make up a computer program. The CPU performs basic arithmetic, logic, controlling, and input/output (I/O) operations specified by the instructions in the program.\n",
    "* CPU Core: a single processor on a multi processor CPU. CPUs can have multiple cores which can independently perform different instructions.\n",
    "* Walltime: estimate amount of time the job might need on the cluster.\n"
   ]
  },
  {
   "cell_type": "markdown",
   "metadata": {},
   "source": [
    "### After logging onto to the HPC you should see a message such as this:\n",
    "\n",
    "\n",
    "<img src=\"greeting.png\" style=\"width:400px\">"
   ]
  },
  {
   "cell_type": "markdown",
   "metadata": {},
   "source": [
    "## 2. PBS Job Scheduler\n",
    "\n",
    "* A job schedulare on an HPC is software that manages how, when and where processes (jobs) run on the cluster.\n",
    "* This ensures that jobs run at their highest performance without overloading a compute node while giving each user's job a chance to be processed \"fairly\"\n",
    "\n",
    "\n",
    "![](job_scheduler.svg)"
   ]
  },
  {
   "cell_type": "markdown",
   "metadata": {},
   "source": [
    "### The Portable Batch System (PBS)\n",
    "\n",
    "* The UHPC uses PBS for job scheduling.\n",
    "* PBS is responsible for allocating computational tasks, i.e., jobs, among the available computing resources (nodes).\n",
    "* PBS takes a set of commands in script that will be processed on a node."
   ]
  },
  {
   "cell_type": "markdown",
   "metadata": {},
   "source": [
    "### Simplest form of a PBS script.\n",
    "\n",
    "Save the text below in a text file called \"submission\""
   ]
  },
  {
   "cell_type": "code",
   "execution_count": null,
   "metadata": {},
   "outputs": [],
   "source": [
    "#!/bash/bin\n",
    "\n",
    "echo \"Hello World\""
   ]
  },
  {
   "cell_type": "markdown",
   "metadata": {},
   "source": [
    "Line 1: Defines the language used in the script </br>\n",
    "Line 3: Prints the words \"Hello World\" on the console."
   ]
  },
  {
   "cell_type": "markdown",
   "metadata": {},
   "source": [
    "### qsub\n",
    "\n",
    "Now that the \"submission\" file has been created we can submit it to the job schedular to find us a possible node to process the job. </br>\n",
    "\n",
    "To do this we use the __*qsub*__ command"
   ]
  },
  {
   "cell_type": "code",
   "execution_count": null,
   "metadata": {},
   "outputs": [],
   "source": [
    "qsub submission"
   ]
  },
  {
   "cell_type": "markdown",
   "metadata": {},
   "source": [
    "\\<xxxx\\>.uhpc.unam.na\n",
    "\n",
    "*xxxx* = job number automatically assigned by PBS"
   ]
  },
  {
   "cell_type": "markdown",
   "metadata": {},
   "source": [
    "If this file was executed on the headnode where we are logged in we would expect an output:"
   ]
  },
  {
   "cell_type": "code",
   "execution_count": null,
   "metadata": {},
   "outputs": [],
   "source": [
    "Hello World"
   ]
  },
  {
   "cell_type": "markdown",
   "metadata": {},
   "source": [
    "### So why did we not see anything?\n",
    "\n",
    "Since the script was submitted to the job scheduler it was processed on the node and there we \"can't\" interactively see what is happening there.</br>\n",
    "\n",
    "Therefore PBS produces an __OUTPUT__ and an __ERROR__ file. Let us look at these"
   ]
  },
  {
   "cell_type": "code",
   "execution_count": null,
   "metadata": {},
   "outputs": [],
   "source": [
    "ls"
   ]
  },
  {
   "cell_type": "markdown",
   "metadata": {},
   "source": [
    "submission &emsp; submission.e\\<xxxx\\> &emsp; submission.o\\<xxxx\\>"
   ]
  },
  {
   "cell_type": "markdown",
   "metadata": {},
   "source": []
  }
 ],
 "metadata": {
  "interpreter": {
   "hash": "4eee28bd81bf0d6fe122286def18555bd32f32fd8d40cbd0e7aced7e79a2a2ec"
  },
  "kernelspec": {
   "display_name": "Python 3.8.8 64-bit ('base': conda)",
   "name": "python3"
  },
  "language_info": {
   "codemirror_mode": {
    "name": "ipython",
    "version": 3
   },
   "file_extension": ".py",
   "mimetype": "text/x-python",
   "name": "python",
   "nbconvert_exporter": "python",
   "pygments_lexer": "ipython3",
   "version": "3.8.8"
  },
  "orig_nbformat": 4
 },
 "nbformat": 4,
 "nbformat_minor": 2
}
